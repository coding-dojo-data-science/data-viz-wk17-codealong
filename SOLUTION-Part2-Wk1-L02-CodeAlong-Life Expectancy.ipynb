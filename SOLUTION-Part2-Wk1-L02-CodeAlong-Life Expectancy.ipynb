{
 "cells": [
  {
   "cell_type": "markdown",
   "id": "0eba0efa",
   "metadata": {},
   "source": [
    "# Week 17, Lecture 02: CodeAlong\n"
   ]
  },
  {
   "cell_type": "markdown",
   "id": "d32c1b66",
   "metadata": {},
   "source": [
    "## 🕹️Part 2: Explaining Models with Model Explainers"
   ]
  },
  {
   "cell_type": "markdown",
   "id": "0fc21da5",
   "metadata": {},
   "source": [
    "### Lesson Objectives"
   ]
  },
  {
   "cell_type": "markdown",
   "id": "23a92cad",
   "metadata": {},
   "source": [
    "- By the end of this lesson, students will be able to:\n",
    "    - Load variables and models from a joblib file into a new notebook.\n",
    "    - Apply permutation importance\n",
    "    - Apply shap analysis \n",
    "    - Visualize global and local explanations.\n"
   ]
  },
  {
   "cell_type": "markdown",
   "id": "dc5c874e",
   "metadata": {},
   "source": [
    "### Continuing with Life Expectancy Prediction"
   ]
  },
  {
   "cell_type": "markdown",
   "id": "031af932",
   "metadata": {},
   "source": [
    "> Task Inspired by: https://medium.com/@shanzehhaji/using-a-linear-regression-model-to-predict-life-expectancy-de3aef66ac21\n",
    "\n",
    "- Kaggle Dataset on Life Expectancy:\n",
    "    - https://www.kaggle.com/datasets/kumarajarshi/life-expectancy-who"
   ]
  },
  {
   "cell_type": "code",
   "execution_count": null,
   "id": "94a13e42",
   "metadata": {
    "ExecuteTime": {
     "end_time": "2023-01-26T19:16:26.846930Z",
     "start_time": "2023-01-26T19:16:25.874014Z"
    }
   },
   "outputs": [],
   "source": [
    "## Our standard imports\n",
    "import pandas as pd\n",
    "import numpy as np\n",
    "import matplotlib.pyplot as plt\n",
    "import seaborn as sns\n",
    "import missingno as miss\n",
    "\n",
    "## Preprocessing tools\n",
    "from sklearn.model_selection import train_test_split\n",
    "from sklearn.compose import make_column_transformer, make_column_selector\n",
    "from sklearn.pipeline import make_pipeline\n",
    "from sklearn.preprocessing import OneHotEncoder, StandardScaler\n",
    "from sklearn.impute import SimpleImputer\n",
    "\n",
    "## Models & evaluation metrics\n",
    "from sklearn import metrics\n",
    "from sklearn.linear_model import LinearRegression\n",
    "from sklearn.tree import DecisionTreeRegressor\n",
    "from sklearn.ensemble import RandomForestRegressor\n",
    "\n",
    "\n",
    "## setting random state for reproducibility\n",
    "SEED = 321\n",
    "np.random.seed(SEED)\n",
    "## Matplotlib style\n",
    "fav_style = ('ggplot','tableau-colorblind10')\n",
    "fav_context  ={'context':'notebook', 'font_scale':1.1}\n",
    "plt.style.use(fav_style)\n",
    "sns.set_context(**fav_context)\n",
    "plt.rcParams['savefig.transparent'] = False\n",
    "plt.rcParams['savefig.bbox'] = 'tight'\n",
    "\n",
    "\n",
    "import joblib, os"
   ]
  },
  {
   "cell_type": "code",
   "execution_count": null,
   "id": "d9919101",
   "metadata": {
    "ExecuteTime": {
     "end_time": "2023-01-26T19:16:27.140282Z",
     "start_time": "2023-01-26T19:16:26.847944Z"
    }
   },
   "outputs": [],
   "source": [
    "## Importing Custom Functions\n",
    "import sys,os\n",
    "# sys.path.append(os.path.abspath(\"../\"))\n",
    "%load_ext autoreload\n",
    "%autoreload 2\n",
    "from CODE import data_enrichment as de"
   ]
  },
  {
   "cell_type": "markdown",
   "id": "892ec81c",
   "metadata": {},
   "source": [
    "### Functionized Code From Part 1"
   ]
  },
  {
   "cell_type": "code",
   "execution_count": null,
   "id": "5e3950a4",
   "metadata": {
    "ExecuteTime": {
     "end_time": "2023-01-26T19:16:33.113228Z",
     "start_time": "2023-01-26T19:16:33.078867Z"
    }
   },
   "outputs": [],
   "source": [
    "def evaluate_regression(model, X_train,y_train, X_test, y_test,for_slides=True): \n",
    "    \"\"\"Evaluates a scikit learn regression model using r-squared and RMSE\n",
    "    FOR SLIDES VERS DOES MULTIPLE PRINT STATEMENTS FOR VERTICAL DISPLAY OF INFO\"\"\"\n",
    "    \n",
    "    ## Training Data\n",
    "    y_pred_train = model.predict(X_train)\n",
    "    r2_train = metrics.r2_score(y_train, y_pred_train)\n",
    "    rmse_train = metrics.mean_squared_error(y_train, y_pred_train, \n",
    "                                            squared=False)\n",
    "    mae_train = metrics.mean_absolute_error(y_train, y_pred_train)\n",
    "    \n",
    "\n",
    "    ## Test Data\n",
    "    y_pred_test = model.predict(X_test)\n",
    "    r2_test = metrics.r2_score(y_test, y_pred_test)\n",
    "    rmse_test = metrics.mean_squared_error(y_test, y_pred_test, \n",
    "                                            squared=False)\n",
    "    mae_test = metrics.mean_absolute_error(y_test, y_pred_test)\n",
    "    \n",
    "    if for_slides:\n",
    "        df_version =[['Split','R^2','MAE','RMSE']]\n",
    "        df_version.append(['Train',r2_train, mae_train, rmse_train])\n",
    "        df_version.append(['Test',r2_test, mae_test, rmse_test])\n",
    "        df_results = pd.DataFrame(df_version[1:], columns=df_version[0])\n",
    "        df_results = df_results.round(2)\n",
    "        display(df_results.style.hide(axis='index').format(precision=2, thousands=','))\n",
    "        \n",
    "    else: \n",
    "        print(f\"Training Data:\\tR^2 = {r2_train:,.2f}\\tRMSE = {rmse_train:,.2f}\\tMAE = {mae_train:,.2f}\")\n",
    "        print(f\"Test Data:\\tR^2 = {r2_test:,.2f}\\tRMSE = {rmse_test:,.2f}\\tMAE = {mae_test:,.2f}\")\n",
    "\n",
    "def get_coefficients(lin_reg):\n",
    "    coeffs = pd.Series(lin_reg.coef_, index= lin_reg.feature_names_in_)\n",
    "    coeffs.loc['intercept'] = lin_reg.intercept_\n",
    "    return coeffs\n",
    "\n",
    "def plot_coefficients(coeffs, sort_values=True, top_n=None, figsize=(6,4),\n",
    "                     title=\"Linear Regression Coefficients\", xlabel='Coefficient'):\n",
    "    \"\"\"Plots a Series of coefficients as horizotal bar chart, with option to sort\n",
    "    and to only keep top_n coefficients\"\"\"\n",
    "        \n",
    "    if top_n is not None:\n",
    "        top_n = coeffs.abs().rank().sort_values(ascending=False).head(top_n)\n",
    "        coeffs = coeffs.loc[top_n.index]\n",
    "        \n",
    "    if sort_values:\n",
    "        coeffs = coeffs.sort_values()\n",
    "\n",
    "        \n",
    "        \n",
    "    ax = coeffs.plot(kind='barh', figsize=figsize)\n",
    "    ax.axvline(0, color='k')\n",
    "    ax.set(xlabel=xlabel, title=title);\n",
    "    plt.show()\n",
    "    return ax\n",
    "\n",
    "\n",
    "def get_importances(rf_reg):\n",
    "    importances = pd.Series(rf_reg.feature_importances_, index= rf_reg.feature_names_in_)\n",
    "    return importances\n",
    "\n",
    "\n",
    "def plot_importances(importances, sort_values=True, top_n=None, figsize=(6,4),\n",
    "                     title=\"Feature Importance\", xlabel='Importance'):\n",
    "    if sort_values:\n",
    "        importances = importances.sort_values()\n",
    "        \n",
    "    if top_n is not None:\n",
    "        importances = importances.tail(top_n)\n",
    "        \n",
    "        \n",
    "    ax = importances.plot(kind='barh', figsize=figsize)\n",
    "    ax.axvline(0, color='k')\n",
    "    ax.set(xlabel=xlabel, title=title);\n",
    "    plt.show()\n",
    "    return ax"
   ]
  },
  {
   "cell_type": "markdown",
   "id": "ace76747",
   "metadata": {},
   "source": [
    "# Loading Objects from a Joblib"
   ]
  },
  {
   "cell_type": "code",
   "execution_count": null,
   "id": "82a652ab",
   "metadata": {
    "ExecuteTime": {
     "end_time": "2023-01-26T19:16:37.359774Z",
     "start_time": "2023-01-26T19:16:37.330620Z"
    }
   },
   "outputs": [],
   "source": [
    "fname = \"Models/wk1-lect01-codealong.joblib\"\n",
    "loaded = joblib.load(fname)\n",
    "loaded.keys()"
   ]
  },
  {
   "cell_type": "code",
   "execution_count": null,
   "id": "75a97c28",
   "metadata": {},
   "outputs": [],
   "source": [
    "X_train = loaded['X_train']\n",
    "X_test = loaded['X_test']\n",
    "y_train = loaded['y_train']\n",
    "y_test = loaded['y_test']\n",
    "\n",
    "preprocessor = loaded['preprocessor']\n",
    "lin_reg = loaded['LinearRegression']\n",
    "rf_reg = loaded['RandomForestRegressor']"
   ]
  },
  {
   "cell_type": "markdown",
   "id": "4fc8ae56",
   "metadata": {},
   "source": [
    "> Let's evaluate our models to prove they saved correctly."
   ]
  },
  {
   "cell_type": "code",
   "execution_count": null,
   "id": "3fd0c9ac",
   "metadata": {
    "ExecuteTime": {
     "end_time": "2023-01-26T19:16:37.258002Z",
     "start_time": "2023-01-26T19:16:37.225175Z"
    }
   },
   "outputs": [],
   "source": [
    "evaluate_regression(lin_reg,X_train,y_train, X_test, y_test)"
   ]
  },
  {
   "cell_type": "markdown",
   "id": "917e3849",
   "metadata": {},
   "source": [
    "> ***Q: what happened??***"
   ]
  },
  {
   "cell_type": "code",
   "execution_count": null,
   "id": "075088b2",
   "metadata": {},
   "outputs": [],
   "source": [
    "## let's check X_train\n",
    "X_train.head()"
   ]
  },
  {
   "cell_type": "markdown",
   "id": "55dce89b",
   "metadata": {},
   "source": [
    "> **Q: What is missing/wrong?**\n",
    "....\n",
    "\n",
    "...\n"
   ]
  },
  {
   "cell_type": "markdown",
   "id": "8744aae7",
   "metadata": {},
   "source": [
    "### Re-Creating X_train_df & X_test_df"
   ]
  },
  {
   "cell_type": "code",
   "execution_count": null,
   "id": "17f85fe5",
   "metadata": {},
   "outputs": [],
   "source": [
    "feature_names = preprocessor.get_feature_names_out()\n",
    "## Using the already-fit preprocessor to recreate the vars\n",
    "X_train_df = pd.DataFrame(preprocessor.transform(X_train),\n",
    "                          index=X_train.index,\n",
    "                          columns=feature_names)\n",
    "\n",
    "X_test_df = pd.DataFrame(preprocessor.transform(X_test),\n",
    "                         index=X_test.index,\n",
    "                          columns=feature_names)\n",
    "X_train_df.head()"
   ]
  },
  {
   "cell_type": "markdown",
   "id": "4463d080",
   "metadata": {},
   "source": [
    "### Evaluating Our LinearRegression"
   ]
  },
  {
   "cell_type": "code",
   "execution_count": null,
   "id": "6012cde8",
   "metadata": {},
   "outputs": [],
   "source": [
    "evaluate_regression(lin_reg,X_train_df,y_train, X_test_df, y_test)"
   ]
  },
  {
   "cell_type": "code",
   "execution_count": null,
   "id": "1e006f46",
   "metadata": {},
   "outputs": [],
   "source": [
    "pd.set_option('display.float_format',lambda x: f\"{x:,.2f}\")"
   ]
  },
  {
   "cell_type": "code",
   "execution_count": null,
   "id": "0707fca0",
   "metadata": {},
   "outputs": [],
   "source": [
    "coeffs = get_coefficients(lin_reg)\n",
    "coeffs"
   ]
  },
  {
   "cell_type": "code",
   "execution_count": null,
   "id": "e1b727dd",
   "metadata": {},
   "outputs": [],
   "source": [
    "plot_coefficients(coeffs)"
   ]
  },
  {
   "cell_type": "markdown",
   "id": "64a67102",
   "metadata": {},
   "source": [
    "### Evaluating Our Random Forest"
   ]
  },
  {
   "cell_type": "code",
   "execution_count": null,
   "id": "0e4b17d0",
   "metadata": {
    "ExecuteTime": {
     "end_time": "2023-01-26T19:16:37.329427Z",
     "start_time": "2023-01-26T19:16:37.259172Z"
    }
   },
   "outputs": [],
   "source": [
    "evaluate_regression(rf_reg,X_train_df,y_train, X_test_df, y_test)\n",
    "importances = get_importances(rf_reg)\n",
    "plot_importances(importances)"
   ]
  },
  {
   "cell_type": "code",
   "execution_count": null,
   "id": "9b3dade9",
   "metadata": {},
   "outputs": [],
   "source": []
  },
  {
   "cell_type": "markdown",
   "id": "bea49fdb",
   "metadata": {},
   "source": [
    "# Permutation Importance"
   ]
  },
  {
   "cell_type": "code",
   "execution_count": null,
   "id": "0b5e3f8f",
   "metadata": {
    "ExecuteTime": {
     "end_time": "2023-01-26T19:16:37.528569Z",
     "start_time": "2023-01-26T19:16:37.497431Z"
    }
   },
   "outputs": [],
   "source": [
    "from sklearn.inspection import permutation_importance"
   ]
  },
  {
   "cell_type": "code",
   "execution_count": null,
   "id": "d0eceb08",
   "metadata": {
    "ExecuteTime": {
     "end_time": "2023-01-26T19:16:39.156968Z",
     "start_time": "2023-01-26T19:16:37.529495Z"
    }
   },
   "outputs": [],
   "source": [
    "%%time\n",
    "result = permutation_importance(rf_reg, X_test_df, y_test,scoring='r2', n_repeats=3,\n",
    "                                n_jobs=-1,random_state=SEED)\n",
    "result.keys()"
   ]
  },
  {
   "cell_type": "code",
   "execution_count": null,
   "id": "f3b29f18",
   "metadata": {
    "ExecuteTime": {
     "end_time": "2023-01-26T19:16:39.191718Z",
     "start_time": "2023-01-26T19:16:39.158223Z"
    }
   },
   "outputs": [],
   "source": [
    "perm_importances = pd.Series(result['importances_mean'], index=rf_reg.feature_names_in_)\n",
    "perm_importances"
   ]
  },
  {
   "cell_type": "code",
   "execution_count": null,
   "id": "26db5a6c",
   "metadata": {
    "ExecuteTime": {
     "end_time": "2023-01-26T19:16:39.316960Z",
     "start_time": "2023-01-26T19:16:39.193370Z"
    }
   },
   "outputs": [],
   "source": [
    "plot_importances(perm_importances,title='Permutation Importance')"
   ]
  },
  {
   "cell_type": "code",
   "execution_count": null,
   "id": "4b2a4f90",
   "metadata": {
    "ExecuteTime": {
     "end_time": "2023-01-26T19:16:39.461161Z",
     "start_time": "2023-01-26T19:16:39.330148Z"
    }
   },
   "outputs": [],
   "source": [
    "plot_importances(importances)"
   ]
  },
  {
   "cell_type": "markdown",
   "id": "75d4c598",
   "metadata": {},
   "source": [
    "### Permutation Importance Can Be Applied to ANY Model"
   ]
  },
  {
   "cell_type": "code",
   "execution_count": null,
   "id": "b5b2375c",
   "metadata": {
    "ExecuteTime": {
     "end_time": "2023-01-26T19:16:39.515905Z",
     "start_time": "2023-01-26T19:16:39.462443Z"
    }
   },
   "outputs": [],
   "source": [
    "results_linreg = permutation_importance(lin_reg, X_test_df, y_test,scoring='r2', n_repeats=3,\n",
    "                                n_jobs=-1,random_state=SEED)\n",
    "result.keys()"
   ]
  },
  {
   "cell_type": "code",
   "execution_count": null,
   "id": "271d2d0d",
   "metadata": {
    "ExecuteTime": {
     "end_time": "2023-01-26T19:16:39.546051Z",
     "start_time": "2023-01-26T19:16:39.517078Z"
    }
   },
   "outputs": [],
   "source": [
    "def get_permutation_importance(rf_reg,X_test_df,y_test, scoring='r2',\n",
    "                               n_repeats=3, n_jobs=-1,random_state=SEED):\n",
    "\n",
    "    result = permutation_importance(rf_reg, X_test_df, y_test,scoring=scoring, \n",
    "                                    n_repeats=n_repeats, n_jobs=n_jobs,\n",
    "                                    random_state=random_state)\n",
    "    perm_importances = pd.Series(result['importances_mean'], index=rf_reg.feature_names_in_)\n",
    "    return perm_importances"
   ]
  },
  {
   "cell_type": "code",
   "execution_count": null,
   "id": "316fbfe6",
   "metadata": {
    "ExecuteTime": {
     "end_time": "2023-01-26T19:16:39.694698Z",
     "start_time": "2023-01-26T19:16:39.547369Z"
    }
   },
   "outputs": [],
   "source": [
    "perm_importances_linreg = get_permutation_importance(lin_reg, X_test_df, y_test)\n",
    "plot_importances(perm_importances_linreg)"
   ]
  },
  {
   "cell_type": "code",
   "execution_count": null,
   "id": "662767ae",
   "metadata": {
    "ExecuteTime": {
     "end_time": "2023-01-26T19:16:39.730308Z",
     "start_time": "2023-01-26T19:16:39.697129Z"
    }
   },
   "outputs": [],
   "source": [
    "final_plot_df = pd.concat([X_train_df, y_train], axis=1)"
   ]
  },
  {
   "cell_type": "code",
   "execution_count": null,
   "id": "a1ac8c72",
   "metadata": {
    "ExecuteTime": {
     "end_time": "2023-01-26T19:16:39.770028Z",
     "start_time": "2023-01-26T19:16:39.731362Z"
    }
   },
   "outputs": [],
   "source": [
    "corr = final_plot_df.corr()\n",
    "corr"
   ]
  },
  {
   "cell_type": "code",
   "execution_count": null,
   "id": "8fe3aa91",
   "metadata": {
    "ExecuteTime": {
     "end_time": "2023-01-26T19:16:39.803505Z",
     "start_time": "2023-01-26T19:16:39.771146Z"
    }
   },
   "outputs": [],
   "source": [
    "corr['Life expectancy'].sort_values(ascending=False).to_frame().style.bar()"
   ]
  },
  {
   "cell_type": "markdown",
   "id": "ed09fb6b",
   "metadata": {},
   "source": [
    "# Global Model Explanations"
   ]
  },
  {
   "cell_type": "markdown",
   "id": "895d1c9c",
   "metadata": {
    "ExecuteTime": {
     "end_time": "2023-01-13T19:13:59.215605Z",
     "start_time": "2023-01-13T19:13:59.172852Z"
    }
   },
   "source": [
    "##  Shap (For Regression)"
   ]
  },
  {
   "cell_type": "code",
   "execution_count": null,
   "id": "2ec89e9d",
   "metadata": {
    "ExecuteTime": {
     "end_time": "2023-01-26T19:16:40.166512Z",
     "start_time": "2023-01-26T19:16:39.804536Z"
    }
   },
   "outputs": [],
   "source": [
    "# Import and init shap\n",
    "import shap\n",
    "shap.initjs()"
   ]
  },
  {
   "cell_type": "code",
   "execution_count": null,
   "id": "9a10976a",
   "metadata": {
    "ExecuteTime": {
     "end_time": "2023-01-26T19:16:40.209308Z",
     "start_time": "2023-01-26T19:16:40.167443Z"
    }
   },
   "outputs": [],
   "source": [
    "# Take a sample of the training data\n",
    "X_shap = shap.sample(X_train_df,nsamples = 500,random_state=SEED)\n",
    "y_shap = y_train.loc[X_shap.index]\n",
    "X_shap.head()"
   ]
  },
  {
   "cell_type": "code",
   "execution_count": null,
   "id": "396f1dcc",
   "metadata": {
    "ExecuteTime": {
     "end_time": "2023-01-26T19:16:52.333908Z",
     "start_time": "2023-01-26T19:16:40.210522Z"
    }
   },
   "outputs": [],
   "source": [
    "# Instantiate a Model Explainer with the model\n",
    "explainer = shap.Explainer(rf_reg)\n",
    "\n",
    "## Get shap values form the explainer\n",
    "shap_values = explainer(X_shap,y_shap)"
   ]
  },
  {
   "cell_type": "code",
   "execution_count": null,
   "id": "0a6d21ed",
   "metadata": {
    "ExecuteTime": {
     "end_time": "2023-01-26T19:16:52.676725Z",
     "start_time": "2023-01-26T19:16:52.334793Z"
    }
   },
   "outputs": [],
   "source": [
    "shap.summary_plot(shap_values, features = X_shap)"
   ]
  },
  {
   "cell_type": "code",
   "execution_count": null,
   "id": "c6a945fd",
   "metadata": {
    "ExecuteTime": {
     "end_time": "2023-01-26T19:16:52.722420Z",
     "start_time": "2023-01-26T19:16:52.677725Z"
    }
   },
   "outputs": [],
   "source": [
    "explainer_linreg = shap.Explainer(lin_reg, X_shap)\n",
    "shap_values_linreg = explainer_linreg(X_shap)\n",
    "shap_values_linreg.shape"
   ]
  },
  {
   "cell_type": "code",
   "execution_count": null,
   "id": "0e77507e",
   "metadata": {
    "ExecuteTime": {
     "end_time": "2023-01-26T19:16:52.973524Z",
     "start_time": "2023-01-26T19:16:52.723692Z"
    }
   },
   "outputs": [],
   "source": [
    "shap.summary_plot(shap_values_linreg, features = X_shap)"
   ]
  },
  {
   "cell_type": "code",
   "execution_count": null,
   "id": "7f1ca2c4",
   "metadata": {},
   "outputs": [],
   "source": []
  },
  {
   "cell_type": "markdown",
   "id": "54472c7e",
   "metadata": {},
   "source": [
    "# Individual Explanations"
   ]
  },
  {
   "cell_type": "markdown",
   "id": "a190a517",
   "metadata": {},
   "source": [
    "## Shap Force Plot"
   ]
  },
  {
   "cell_type": "markdown",
   "id": "c13f3f32",
   "metadata": {},
   "source": [
    "> So why is our LinReg predicting a high life expectancy when infant deaths are high?"
   ]
  },
  {
   "cell_type": "code",
   "execution_count": null,
   "id": "b1c39ce3",
   "metadata": {
    "ExecuteTime": {
     "end_time": "2023-01-26T19:16:53.005976Z",
     "start_time": "2023-01-26T19:16:52.974474Z"
    }
   },
   "outputs": [],
   "source": [
    "# shap_values_linreg[2643]"
   ]
  },
  {
   "cell_type": "code",
   "execution_count": null,
   "id": "0e86cf18",
   "metadata": {
    "ExecuteTime": {
     "end_time": "2023-01-26T19:16:53.046305Z",
     "start_time": "2023-01-26T19:16:53.007025Z"
    }
   },
   "outputs": [],
   "source": [
    "## Making a vers of shap vars with 0-based integer index \n",
    "X_shap_local = X_shap.reset_index(drop=True)\n",
    "y_shap_local = y_shap.reset_index(drop=True)\n",
    "X_shap_local.head()"
   ]
  },
  {
   "cell_type": "code",
   "execution_count": null,
   "id": "337221dc",
   "metadata": {
    "ExecuteTime": {
     "end_time": "2023-01-26T19:16:53.082693Z",
     "start_time": "2023-01-26T19:16:53.047422Z"
    }
   },
   "outputs": [],
   "source": [
    "# what is the max/range of infant deaths\n",
    "X_shap_local['infant deaths'].describe()"
   ]
  },
  {
   "cell_type": "code",
   "execution_count": null,
   "id": "1addcfb6",
   "metadata": {
    "ExecuteTime": {
     "end_time": "2023-01-26T19:16:53.116006Z",
     "start_time": "2023-01-26T19:16:53.083663Z"
    }
   },
   "outputs": [],
   "source": [
    "## saving the index of the most deaths\n",
    "idx_high_deaths = X_shap_local['infant deaths'].idxmax()\n",
    "idx_high_deaths"
   ]
  },
  {
   "cell_type": "code",
   "execution_count": null,
   "id": "afe4ad89",
   "metadata": {
    "ExecuteTime": {
     "end_time": "2023-01-26T19:16:53.149368Z",
     "start_time": "2023-01-26T19:16:53.116930Z"
    }
   },
   "outputs": [],
   "source": [
    "# checking the feature values for selected example\n",
    "X_shap_local.iloc[idx_high_deaths]"
   ]
  },
  {
   "cell_type": "code",
   "execution_count": null,
   "id": "1c08bd4b",
   "metadata": {
    "ExecuteTime": {
     "end_time": "2023-01-26T19:16:53.182844Z",
     "start_time": "2023-01-26T19:16:53.150423Z"
    }
   },
   "outputs": [],
   "source": [
    "## what was the actual life expectancy?\n",
    "y_shap_local.iloc[idx_high_deaths]"
   ]
  },
  {
   "cell_type": "code",
   "execution_count": null,
   "id": "9685d4e6",
   "metadata": {
    "ExecuteTime": {
     "end_time": "2023-01-26T19:16:53.217471Z",
     "start_time": "2023-01-26T19:16:53.183911Z"
    }
   },
   "outputs": [],
   "source": [
    "## plotting example force plot for most inf.deaths (from linreg)\n",
    "shap.force_plot(explainer_linreg.expected_value, \n",
    "                shap_values=shap_values_linreg[idx_high_deaths].values,\n",
    "               features=X_shap_local.iloc[idx_high_deaths])"
   ]
  },
  {
   "cell_type": "code",
   "execution_count": null,
   "id": "6e15191c",
   "metadata": {
    "ExecuteTime": {
     "end_time": "2023-01-26T19:16:53.251054Z",
     "start_time": "2023-01-26T19:16:53.218349Z"
    }
   },
   "outputs": [],
   "source": [
    "## plotting example force plot for most inf.deaths (from rf)\n",
    "shap.force_plot(explainer.expected_value, \n",
    "                shap_values=shap_values[idx_high_deaths].values,\n",
    "               features=X_shap_local.iloc[idx_high_deaths])"
   ]
  },
  {
   "cell_type": "markdown",
   "id": "d0e24b14",
   "metadata": {},
   "source": [
    "> What do you notice when comparing the lin reg and rf reg force plots?"
   ]
  },
  {
   "cell_type": "code",
   "execution_count": null,
   "id": "0c94b6fe",
   "metadata": {
    "ExecuteTime": {
     "end_time": "2023-01-26T19:16:53.533450Z",
     "start_time": "2023-01-26T19:16:53.251937Z"
    }
   },
   "outputs": [],
   "source": [
    "shap.force_plot(explainer_linreg.expected_value,shap_values.values,X_shap_local,)"
   ]
  },
  {
   "cell_type": "markdown",
   "id": "5575346e",
   "metadata": {},
   "source": [
    "### Global Force Plots"
   ]
  },
  {
   "cell_type": "code",
   "execution_count": null,
   "id": "dfb88a7f",
   "metadata": {
    "ExecuteTime": {
     "end_time": "2023-01-26T19:16:53.816086Z",
     "start_time": "2023-01-26T19:16:53.534337Z"
    }
   },
   "outputs": [],
   "source": [
    "shap.force_plot(explainer.expected_value,shap_values.values,X_shap_local)"
   ]
  },
  {
   "cell_type": "code",
   "execution_count": null,
   "id": "db6c886b",
   "metadata": {},
   "outputs": [],
   "source": []
  },
  {
   "cell_type": "markdown",
   "id": "d9b5d9e9",
   "metadata": {},
   "source": [
    "# LIME"
   ]
  },
  {
   "cell_type": "code",
   "execution_count": null,
   "id": "bbdf4560",
   "metadata": {
    "ExecuteTime": {
     "end_time": "2023-01-26T19:16:53.852645Z",
     "start_time": "2023-01-26T19:16:53.816874Z"
    }
   },
   "outputs": [],
   "source": [
    "from lime.lime_tabular import LimeTabularExplainer\n",
    "lime_explainer =LimeTabularExplainer(\n",
    "    training_data=X_shap_local.values,  \n",
    "    feature_names=X_shap_local.columns,\n",
    "   mode='regression'\n",
    ")\n",
    "lime_explainer"
   ]
  },
  {
   "cell_type": "code",
   "execution_count": null,
   "id": "d5c39ccd",
   "metadata": {
    "ExecuteTime": {
     "end_time": "2023-01-26T19:16:56.260197Z",
     "start_time": "2023-01-26T19:16:53.853587Z"
    }
   },
   "outputs": [],
   "source": [
    "exp = lime_explainer.explain_instance(X_shap_local.loc[idx_high_deaths],\n",
    "                                      rf_reg.predict)\n",
    "exp.show_in_notebook()"
   ]
  }
 ],
 "metadata": {
  "kernelspec": {
   "display_name": "Python (dojo-env)",
   "language": "python",
   "name": "dojo-env"
  },
  "language_info": {
   "codemirror_mode": {
    "name": "ipython",
    "version": 3
   },
   "file_extension": ".py",
   "mimetype": "text/x-python",
   "name": "python",
   "nbconvert_exporter": "python",
   "pygments_lexer": "ipython3",
   "version": "3.9.15"
  },
  "toc": {
   "base_numbering": 1,
   "nav_menu": {},
   "number_sections": false,
   "sideBar": true,
   "skip_h1_title": false,
   "title_cell": "Table of Contents",
   "title_sidebar": "Contents",
   "toc_cell": false,
   "toc_position": {
    "height": "calc(100% - 180px)",
    "left": "10px",
    "top": "150px",
    "width": "248.016px"
   },
   "toc_section_display": true,
   "toc_window_display": true
  },
  "widgets": {
   "application/vnd.jupyter.widget-state+json": {
    "state": {},
    "version_major": 2,
    "version_minor": 0
   }
  }
 },
 "nbformat": 4,
 "nbformat_minor": 5
}
